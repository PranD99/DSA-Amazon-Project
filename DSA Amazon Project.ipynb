{
 "cells": [
  {
   "cell_type": "code",
   "execution_count": 69,
   "metadata": {},
   "outputs": [
    {
     "name": "stdout",
     "output_type": "stream",
     "text": [
      "Init invoked\n",
      "10\n"
     ]
    }
   ],
   "source": [
    "class Test:\n",
    "    def __init__(self):\n",
    "        print(\"Init invoked\")\n",
    "        self.x = 10\n",
    "        \n",
    "    def show(self):\n",
    "        print(self.x)\n",
    "        \n",
    "\n",
    "ob = Test()\n",
    "ob.show() #Test.show(ob)"
   ]
  },
  {
   "cell_type": "code",
   "execution_count": 70,
   "metadata": {},
   "outputs": [],
   "source": [
    "import random\n",
    "import string"
   ]
  },
  {
   "cell_type": "code",
   "execution_count": 71,
   "metadata": {},
   "outputs": [],
   "source": [
    "def generate_id():\n",
    "    tokens = list(string.ascii_letters + string.digits)\n",
    "    uid = ' '\n",
    "    for i in range (6):\n",
    "        uid += random.choice(tokens)\n",
    "    return uid\n",
    "# print(generate_id())"
   ]
  },
  {
   "cell_type": "code",
   "execution_count": 72,
   "metadata": {},
   "outputs": [],
   "source": [
    "# id\n",
    "# name\n",
    "# email\n",
    "# isprime = 0 -> Prime\n",
    "#           1 -> Non Prime\n",
    "class Amazon:\n",
    "    def __init__(self):\n",
    "        self.id = None\n",
    "        self.name = None\n",
    "        self.email = None\n",
    "        self.order_cart = None\n",
    "        self.isprime = 1\n",
    "    \n",
    "    def get_details(self):\n",
    "        self.id = generate_id()\n",
    "        self.name = input('Enter name : ')\n",
    "        self.email = input('Enter email address: ')\n",
    "        \n",
    "    def buy_prime(self):\n",
    "        self.isprime = 0\n",
    "        \n",
    "    def buy_items(self):\n",
    "        self.order_cart = [i for i in input('Enter the items names: ').split(\", \")]"
   ]
  },
  {
   "cell_type": "code",
   "execution_count": 73,
   "metadata": {},
   "outputs": [],
   "source": [
    "user_list = []"
   ]
  },
  {
   "cell_type": "code",
   "execution_count": 82,
   "metadata": {},
   "outputs": [],
   "source": [
    "def find_user_pos(new_user):\n",
    "    user_count = len(user_list)\n",
    "    pos = 0\n",
    "    for i in range(user_count):\n",
    "        if user_list[i].isprime <= new_user.isprime:\n",
    "            pos += 1\n",
    "    return pos\n",
    "    \n",
    "    "
   ]
  },
  {
   "cell_type": "code",
   "execution_count": 83,
   "metadata": {},
   "outputs": [
    {
     "name": "stdout",
     "output_type": "stream",
     "text": [
      "Enter name : Adi\n",
      "Enter email address: adi@gmail.com\n",
      "Want to order? y/n: y\n",
      "Enter the items names: Bucket\n",
      "Do you want to buy Prime? y/n: y\n",
      "Want to add more user? y/n: y\n",
      "Enter name : Prantik\n",
      "Enter email address: prantik.dutta90@gmail.com\n",
      "Want to order? y/n: y\n",
      "Enter the items names: Dell Inspiron\n",
      "Do you want to buy Prime? y/n: y\n",
      "Want to add more user? y/n: y\n",
      "Enter name : Jyotsna\n",
      "Enter email address: jyotsna@gmail.com\n",
      "Want to order? y/n: Face Wash\n",
      "Do you want to buy Prime? y/n: n\n",
      "Want to add more user? y/n: y\n",
      "Enter name : Dev\n",
      "Enter email address: dev456@gmail.com\n",
      "Want to order? y/n: y\n",
      "Enter the items names: ipad, airpod, apple watch\n",
      "Do you want to buy Prime? y/n: n\n",
      "Want to add more user? y/n: n\n"
     ]
    }
   ],
   "source": [
    "ch = 'y'\n",
    "while ch == 'y':\n",
    "    new_user = Amazon()\n",
    "    new_user.get_details()\n",
    "    \n",
    "    op = input(\"Want to order? y/n: \")\n",
    "    if op =='y':\n",
    "        new_user.buy_items()\n",
    "        \n",
    "    op = input('Do you want to buy Prime? y/n: ')\n",
    "    if op == 'y':\n",
    "        new_user.buy_prime()\n",
    "        \n",
    "    pos = find_user_pos(new_user)\n",
    "    user_list.insert(pos , new_user)\n",
    "        \n",
    "    ch = input('Want to add more user? y/n: ')"
   ]
  },
  {
   "cell_type": "code",
   "execution_count": 84,
   "metadata": {},
   "outputs": [
    {
     "name": "stdout",
     "output_type": "stream",
     "text": [
      "[<__main__.Amazon object at 0x000001E8D85A8130>, <__main__.Amazon object at 0x000001E8D8491A60>, <__main__.Amazon object at 0x000001E8D85781C0>, <__main__.Amazon object at 0x000001E8D8485D60>]\n"
     ]
    }
   ],
   "source": [
    "print(user_list)"
   ]
  },
  {
   "cell_type": "code",
   "execution_count": 85,
   "metadata": {},
   "outputs": [
    {
     "name": "stdout",
     "output_type": "stream",
     "text": [
      "Adi 0 ['Bucket']\n",
      "Prantik 0 ['Dell Inspiron']\n",
      "Jyotsna 1 None\n",
      "Dev 1 ['ipad', 'airpod', 'apple watch']\n"
     ]
    }
   ],
   "source": [
    "for i in user_list:\n",
    "    print(i.name, i.isprime, i.order_cart)"
   ]
  },
  {
   "cell_type": "code",
   "execution_count": 86,
   "metadata": {},
   "outputs": [
    {
     "name": "stdout",
     "output_type": "stream",
     "text": [
      "[9, 5, 6, 8, 0, 2]\n",
      "[0, 2, 5, 6, 8, 9]\n"
     ]
    }
   ],
   "source": [
    "li = [9, 5, 6, 8, 0, 2]\n",
    "# li.sort()\n",
    "uli = sorted(li)\n",
    "print(li)\n",
    "print(uli)"
   ]
  },
  {
   "cell_type": "code",
   "execution_count": 87,
   "metadata": {},
   "outputs": [],
   "source": [
    "# user_list = sorted(user_list, key = lambda user: user.isprime)"
   ]
  },
  {
   "cell_type": "code",
   "execution_count": 88,
   "metadata": {},
   "outputs": [
    {
     "name": "stdout",
     "output_type": "stream",
     "text": [
      "Adi 0\n",
      "Prantik 0\n",
      "Jyotsna 1\n",
      "Dev 1\n"
     ]
    }
   ],
   "source": [
    "for i in user_list:\n",
    "    print(i.name, i.isprime)"
   ]
  },
  {
   "cell_type": "code",
   "execution_count": 89,
   "metadata": {},
   "outputs": [
    {
     "name": "stdout",
     "output_type": "stream",
     "text": [
      "20\n"
     ]
    }
   ],
   "source": [
    "# def fun(x):\n",
    "#    return x * 2\n",
    "\n",
    "f= lambda x: x * 2\n",
    "\n",
    "res = f(10)\n",
    "print(res)"
   ]
  },
  {
   "cell_type": "code",
   "execution_count": 90,
   "metadata": {},
   "outputs": [
    {
     "name": "stdout",
     "output_type": "stream",
     "text": [
      "Hi Adi, your order has been shipped under Prime delivery\n",
      "Hi Prantik, your order has been shipped under Prime delivery\n",
      "Hi Jyotsna, your order has been shipped.\n",
      "Hi Dev, your order has been shipped.\n"
     ]
    }
   ],
   "source": [
    "for i in user_list:\n",
    "    if i.isprime == 0:\n",
    "        print(f'Hi {i.name}, your order has been shipped under Prime delivery')\n",
    "    else:\n",
    "        print(f'Hi {i.name}, your order has been shipped.')\n",
    "        \n",
    "# i.order_cart.clear()"
   ]
  },
  {
   "cell_type": "code",
   "execution_count": null,
   "metadata": {},
   "outputs": [],
   "source": []
  }
 ],
 "metadata": {
  "kernelspec": {
   "display_name": "Python 3",
   "language": "python",
   "name": "python3"
  },
  "language_info": {
   "codemirror_mode": {
    "name": "ipython",
    "version": 3
   },
   "file_extension": ".py",
   "mimetype": "text/x-python",
   "name": "python",
   "nbconvert_exporter": "python",
   "pygments_lexer": "ipython3",
   "version": "3.8.3"
  }
 },
 "nbformat": 4,
 "nbformat_minor": 4
}
